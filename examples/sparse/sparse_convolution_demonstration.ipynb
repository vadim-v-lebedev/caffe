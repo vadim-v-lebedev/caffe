{
 "cells": [
  {
   "cell_type": "markdown",
   "metadata": {},
   "source": [
    "## Sparse convolution demo"
   ]
  },
  {
   "cell_type": "code",
   "execution_count": 1,
   "metadata": {
    "collapsed": true
   },
   "outputs": [],
   "source": [
    "import numpy as np\n",
    "import sys\n",
    "sys.path.append('/home/vlebedev/brain_damage/caffe/python')\n",
    "import caffe\n",
    "import matplotlib.pyplot as plt\n",
    "%matplotlib inline"
   ]
  },
  {
   "cell_type": "code",
   "execution_count": null,
   "metadata": {
    "collapsed": false,
    "scrolled": true
   },
   "outputs": [],
   "source": [
    "!mkdir snapshots"
   ]
  },
  {
   "cell_type": "code",
   "execution_count": 2,
   "metadata": {
    "collapsed": false
   },
   "outputs": [
    {
     "name": "stdout",
     "output_type": "stream",
     "text": [
      "net.caffemodel\r\n"
     ]
    }
   ],
   "source": [
    "#We start with training regular LeNet.\n",
    "#You habe to copy mnist_test_lmdb and mnist_train_lmdb into this directory\n",
    "#If this cell runs correctly, \"net.caffemodel\" file will appear\n",
    "!sh train.sh 2> log\n",
    "!ls *.caffemodel"
   ]
  },
  {
   "cell_type": "code",
   "execution_count": 3,
   "metadata": {
    "collapsed": false
   },
   "outputs": [
    {
     "data": {
      "image/png": "[encoded data removed]",
      "text/plain": [
       "<matplotlib.figure.Figure at 0x7fbf2724b050>"
      ]
     },
     "metadata": {},
     "output_type": "display_data"
    },
    {
     "name": "stdout",
     "output_type": "stream",
     "text": [
      "[[-0.38768244 -0.1925437  -0.03726823  0.12413661  0.25363147]\n",
      " [-0.42213988 -0.26055387 -0.28450063  0.33810511  0.13615094]\n",
      " [-0.27935869 -0.028331    0.05282414  0.51957804 -0.06722727]\n",
      " [ 0.24794148  0.16138721  0.29016444  0.22376081 -0.19043376]\n",
      " [ 0.24983175  0.05170694  0.21093683  0.23797756 -0.01192414]]\n"
     ]
    }
   ],
   "source": [
    "#visualize one of the filters of conv1 layer\n",
    "net = caffe.Net('deploy.prototxt', 'net.caffemodel', caffe.TEST)\n",
    "plt.imshow(net.layers[1].blobs[0].data[0,0,:,:], interpolation='None')\n",
    "plt.show()\n",
    "\n",
    "print net.layers[1].blobs[0].data[0,0,:,:]"
   ]
  },
  {
   "cell_type": "code",
   "execution_count": 4,
   "metadata": {
    "collapsed": false
   },
   "outputs": [
    {
     "name": "stdout",
     "output_type": "stream",
     "text": [
      "sparsity = 0.360\n"
     ]
    },
    {
     "data": {
      "image/png": "[encoded data removed]",
      "text/plain": [
       "<matplotlib.figure.Figure at 0x7fbf250ba5d0>"
      ]
     },
     "metadata": {},
     "output_type": "display_data"
    },
    {
     "name": "stdout",
     "output_type": "stream",
     "text": [
      "[[-0.         -0.         -0.03726823  0.          0.        ]\n",
      " [-0.         -0.         -0.28450063  0.          0.        ]\n",
      " [-0.27935869 -0.028331    0.05282414  0.51957804 -0.06722727]\n",
      " [ 0.          0.          0.29016444  0.         -0.        ]\n",
      " [ 0.          0.          0.21093683  0.         -0.        ]]\n"
     ]
    }
   ],
   "source": [
    "#convolutional weights sparsification\n",
    "#all filters of both conv layers are sparsified according to the mask below\n",
    "\n",
    "mask = np.array([\n",
    "       [0, 0, 1, 0, 0],\n",
    "       [0, 0, 1, 0, 0],\n",
    "       [1, 1, 1, 1, 1],\n",
    "       [0, 0, 1, 0, 0],\n",
    "       [0, 0, 1, 0, 0]])\n",
    "\n",
    "for l in [1, 3]:\n",
    "    w = net.layers[l].blobs[0].data\n",
    "    for x in range(5):\n",
    "        for y in range(5):\n",
    "            w[:,:,x,y] *= mask[x,y]\n",
    "\n",
    "print(\"sparsity = %.3f\" % np.mean(mask))\n",
    "net.save('net%03d.caffemodel' % int(np.mean(mask) * 100))\n",
    "            \n",
    "plt.imshow(net.layers[1].blobs[0].data[0,0,:,:], interpolation='None')\n",
    "plt.show()\n",
    "\n",
    "print net.layers[1].blobs[0].data[0,0,:,:]"
   ]
  },
  {
   "cell_type": "code",
   "execution_count": 5,
   "metadata": {
    "collapsed": false
   },
   "outputs": [
    {
     "name": "stdout",
     "output_type": "stream",
     "text": [
      "I0825 16:58:00.041175  1362 caffe.cpp:325] accuracy = 0.8468\r\n",
      "I0825 16:58:00.041190  1362 caffe.cpp:325] loss = 1.16095 (* 1 = 1.16095 loss)\r\n"
     ]
    }
   ],
   "source": [
    "#test sparsified network\n",
    "#accuracy drops\n",
    "!sh test.sh net036.caffemodel 2> log\n",
    "!tail -n 2 log"
   ]
  },
  {
   "cell_type": "code",
   "execution_count": 6,
   "metadata": {
    "collapsed": false
   },
   "outputs": [
    {
     "name": "stdout",
     "output_type": "stream",
     "text": [
      "sparse layer: 9 of 25 elements are nonzero\n",
      "sparse layer: 180 of 500 elements are nonzero\n",
      "sparse layer: 9 of 25 elements are nonzero\n",
      "sparse layer: 180 of 500 elements are nonzero\n",
      "I0825 16:58:52.487483  1385 solver.cpp:404]     Test net output #0: accuracy = 0.9604\n",
      "I0825 16:58:52.487563  1385 solver.cpp:404]     Test net output #1: loss = 0.184211 (* 1 = 0.184211 loss)\n",
      "I0825 16:58:52.487576  1385 solver.cpp:322] Optimization Done.\n",
      "I0825 16:58:52.487581  1385 caffe.cpp:254] Optimization Done.\n"
     ]
    }
   ],
   "source": [
    "#finetune sparsified network\n",
    "#currently backpropagation through sparse convolutional layers is not functional, \n",
    "#so in this example only fully connected layers are trained\n",
    "!sh finetune1.sh net036.caffemodel 2> log\n",
    "!tail -n 4 log"
   ]
  },
  {
   "cell_type": "code",
   "execution_count": 7,
   "metadata": {
    "collapsed": false
   },
   "outputs": [
    {
     "data": {
      "image/png": "[encoded data removed]",
      "text/plain": [
       "<matplotlib.figure.Figure at 0x7fbf6c209650>"
      ]
     },
     "metadata": {},
     "output_type": "display_data"
    },
    {
     "name": "stdout",
     "output_type": "stream",
     "text": [
      "[[-0.         -0.         -0.03708363  0.          0.        ]\n",
      " [-0.         -0.         -0.28308386  0.          0.        ]\n",
      " [-0.27797064 -0.0281907   0.05256205  0.51701593 -0.06689493]\n",
      " [ 0.          0.          0.28872487  0.         -0.        ]\n",
      " [ 0.          0.          0.20989144  0.         -0.        ]]\n"
     ]
    }
   ],
   "source": [
    "#check if sparsity structure is preserved\n",
    "net = caffe.Net('deploy.prototxt', 'snapshots/net_tuned1_iter_1000.caffemodel', caffe.TEST)\n",
    "w = net.layers[1].blobs[0].data[0,0,:,:]\n",
    "plt.imshow(w, interpolation='None')\n",
    "plt.show()\n",
    "print w"
   ]
  },
  {
   "cell_type": "code",
   "execution_count": 10,
   "metadata": {
    "collapsed": false,
    "scrolled": true
   },
   "outputs": [
    {
     "name": "stdout",
     "output_type": "stream",
     "text": [
      "I0825 17:00:30.651470  2220 solver.cpp:404]     Test net output #0: accuracy = 0.9789\r\n",
      "I0825 17:00:30.651525  2220 solver.cpp:404]     Test net output #1: loss = 0.0754681 (* 1 = 0.0754681 loss)\r\n",
      "I0825 17:00:30.651538  2220 solver.cpp:322] Optimization Done.\r\n",
      "I0825 17:00:30.651546  2220 caffe.cpp:254] Optimization Done.\r\n"
     ]
    }
   ],
   "source": [
    "#alternative way to tune network is to use regular convolutions,\n",
    "#but fix zero weights with special regularizer\n",
    "#now, all layers are tuned and final result is better\n",
    "!sh finetune2.sh net036.caffemodel 2> log\n",
    "!tail -n 4 log"
   ]
  },
  {
   "cell_type": "code",
   "execution_count": 11,
   "metadata": {
    "collapsed": false
   },
   "outputs": [
    {
     "data": {
      "image/png": "[encoded data removed]",
      "text/plain": [
       "<matplotlib.figure.Figure at 0x7fbf5ff4d9d0>"
      ]
     },
     "metadata": {},
     "output_type": "display_data"
    },
    {
     "name": "stdout",
     "output_type": "stream",
     "text": [
      "[[-0.         -0.         -0.08586697  0.          0.        ]\n",
      " [-0.         -0.         -0.30886415  0.          0.        ]\n",
      " [-0.33464116 -0.07558403  0.10055682  0.63681138  0.04160528]\n",
      " [ 0.          0.          0.42946491  0.         -0.        ]\n",
      " [ 0.          0.          0.37419415  0.         -0.        ]]\n"
     ]
    }
   ],
   "source": [
    "#check if sparsity structure is preserved\n",
    "net = caffe.Net('deploy.prototxt', 'snapshots/net_tuned2_iter_1000.caffemodel', caffe.TEST)\n",
    "w = net.layers[1].blobs[0].data[0,0,:,:]\n",
    "plt.imshow(w, interpolation='None')\n",
    "plt.show()\n",
    "print w"
   ]
  }
 ],
 "metadata": {
  "kernelspec": {
   "display_name": "Python 2",
   "language": "python",
   "name": "python2"
  },
  "language_info": {
   "codemirror_mode": {
    "name": "ipython",
    "version": 2
   },
   "file_extension": ".py",
   "mimetype": "text/x-python",
   "name": "python",
   "nbconvert_exporter": "python",
   "pygments_lexer": "ipython2",
   "version": "2.7.6"
  }
 },
 "nbformat": 4,
 "nbformat_minor": 0
}
